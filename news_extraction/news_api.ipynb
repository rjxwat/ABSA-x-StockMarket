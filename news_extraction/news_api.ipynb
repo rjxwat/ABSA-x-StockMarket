{
 "cells": [
  {
   "cell_type": "markdown",
   "metadata": {},
   "source": [
    "Basically to get additional news articels we found a streamlit code with public api to get the news articles"
   ]
  },
  {
   "cell_type": "markdown",
   "metadata": {},
   "source": [
    "For now we collected 3 companies  using the same code structure"
   ]
  },
  {
   "cell_type": "markdown",
   "metadata": {},
   "source": [
    "Reliance"
   ]
  },
  {
   "cell_type": "code",
   "execution_count": 1,
   "metadata": {},
   "outputs": [],
   "source": [
    "import pandas as pd  # Importing the pandas library for data manipulation\n",
    "\n",
    "# URI for the Parquet file stored in an S3 bucket\n",
    "uri = \"s3://desiquant/data/news/RELIANCE.parquet.gz\"\n",
    "\n",
    "# Parameters needed to access the S3 storage\n",
    "s3_params = {\n",
    "    \"endpoint_url\": \"https://cbabd13f6c54798a9ec05df5b8070a6e.r2.cloudflarestorage.com\",  # The endpoint URL for S3 storage\n",
    "    \"key\": \"5c8ea9c516abfc78987bc98c70d2868a\",  # Public access key for S3 \n",
    "    \"secret\": \"0cf64f9f0b64f6008cf5efe1529c6772daa7d7d0822f5db42a7c6a1e41b3cadf\",  # Public secret key for S3 \n",
    "    \"client_kwargs\": {\n",
    "        \"region_name\": \"auto\"  # Automatically determine the region for the S3 storage\n",
    "    },\n",
    "}\n",
    "\n",
    "# Reading the Parquet file from the specified S3 URI using the defined storage options\n",
    "df = pd.read_parquet(uri, storage_options=s3_params)\n"
   ]
  },
  {
   "cell_type": "code",
   "execution_count": 7,
   "metadata": {},
   "outputs": [],
   "source": [
    "df.to_csv(\"RELIANCE.csv\", index=False)"
   ]
  },
  {
   "cell_type": "markdown",
   "metadata": {},
   "source": [
    "Apollo_hospitals"
   ]
  },
  {
   "cell_type": "code",
   "execution_count": 8,
   "metadata": {},
   "outputs": [],
   "source": [
    "import pandas as pd\n",
    "\n",
    "uri = \"s3://desiquant/data/news/APOLLOHOSP.parquet.gz\"\n",
    "\n",
    "s3_params = {\n",
    "\"endpoint_url\": \"https://cbabd13f6c54798a9ec05df5b8070a6e.r2.cloudflarestorage.com\",\n",
    "\"key\": \"5c8ea9c516abfc78987bc98c70d2868a\", # FREE credentials for public access!\n",
    "\"secret\": \"0cf64f9f0b64f6008cf5efe1529c6772daa7d7d0822f5db42a7c6a1e41b3cadf\", # FREE credentials for public access!\n",
    "\"client_kwargs\": {\n",
    "    \"region_name\": \"auto\"\n",
    "    },\n",
    "}\n",
    "\n",
    "df = pd.read_parquet(uri, storage_options=s3_params)"
   ]
  },
  {
   "cell_type": "code",
   "execution_count": 9,
   "metadata": {},
   "outputs": [
    {
     "data": {
      "text/plain": [
       "962"
      ]
     },
     "execution_count": 9,
     "metadata": {},
     "output_type": "execute_result"
    }
   ],
   "source": [
    "len(df)"
   ]
  },
  {
   "cell_type": "code",
   "execution_count": 10,
   "metadata": {},
   "outputs": [],
   "source": [
    "df.to_csv(\"APOLLOHOSP.csv\", index=False)"
   ]
  },
  {
   "cell_type": "markdown",
   "metadata": {},
   "source": [
    "Tata_group"
   ]
  },
  {
   "cell_type": "code",
   "execution_count": 11,
   "metadata": {},
   "outputs": [],
   "source": [
    "import pandas as pd\n",
    "\n",
    "uri = \"s3://desiquant/data/news/TATACOMM.parquet.gz\"\n",
    "\n",
    "s3_params = {\n",
    "\"endpoint_url\": \"https://cbabd13f6c54798a9ec05df5b8070a6e.r2.cloudflarestorage.com\",\n",
    "\"key\": \"5c8ea9c516abfc78987bc98c70d2868a\", # FREE credentials for public access!\n",
    "\"secret\": \"0cf64f9f0b64f6008cf5efe1529c6772daa7d7d0822f5db42a7c6a1e41b3cadf\", # FREE credentials for public access!\n",
    "\"client_kwargs\": {\n",
    "    \"region_name\": \"auto\"\n",
    "    },\n",
    "}\n",
    "\n",
    "df = pd.read_parquet(uri, storage_options=s3_params)"
   ]
  },
  {
   "cell_type": "code",
   "execution_count": 13,
   "metadata": {},
   "outputs": [
    {
     "data": {
      "text/plain": [
       "657"
      ]
     },
     "execution_count": 13,
     "metadata": {},
     "output_type": "execute_result"
    }
   ],
   "source": [
    "len(df)"
   ]
  },
  {
   "cell_type": "code",
   "execution_count": 12,
   "metadata": {},
   "outputs": [],
   "source": [
    "uri = \"s3://desiquant/data/news/TATACHEM.parquet.gz\"\n",
    "\n",
    "s3_params = {\n",
    "\"endpoint_url\": \"https://cbabd13f6c54798a9ec05df5b8070a6e.r2.cloudflarestorage.com\",\n",
    "\"key\": \"5c8ea9c516abfc78987bc98c70d2868a\", # FREE credentials for public access!\n",
    "\"secret\": \"0cf64f9f0b64f6008cf5efe1529c6772daa7d7d0822f5db42a7c6a1e41b3cadf\", # FREE credentials for public access!\n",
    "\"client_kwargs\": {\n",
    "    \"region_name\": \"auto\"\n",
    "    },\n",
    "}\n",
    "new_df = pd.read_parquet(uri, storage_options=s3_params)"
   ]
  },
  {
   "cell_type": "code",
   "execution_count": 14,
   "metadata": {},
   "outputs": [
    {
     "data": {
      "text/plain": [
       "557"
      ]
     },
     "execution_count": 14,
     "metadata": {},
     "output_type": "execute_result"
    }
   ],
   "source": [
    "len(new_df)"
   ]
  },
  {
   "cell_type": "code",
   "execution_count": 15,
   "metadata": {},
   "outputs": [],
   "source": [
    "df=pd.concat([df,new_df],ignore_index=True)"
   ]
  },
  {
   "cell_type": "code",
   "execution_count": 17,
   "metadata": {},
   "outputs": [],
   "source": [
    "uri = \"s3://desiquant/data/news/TATASTEEL.parquet.gz\"\n",
    "\n",
    "s3_params = {\n",
    "\"endpoint_url\": \"https://cbabd13f6c54798a9ec05df5b8070a6e.r2.cloudflarestorage.com\",\n",
    "\"key\": \"5c8ea9c516abfc78987bc98c70d2868a\", # FREE credentials for public access!\n",
    "\"secret\": \"0cf64f9f0b64f6008cf5efe1529c6772daa7d7d0822f5db42a7c6a1e41b3cadf\", # FREE credentials for public access!\n",
    "\"client_kwargs\": {\n",
    "    \"region_name\": \"auto\"\n",
    "    },\n",
    "}\n",
    "\n",
    "new_df = pd.read_parquet(uri, storage_options=s3_params)"
   ]
  },
  {
   "cell_type": "code",
   "execution_count": 19,
   "metadata": {},
   "outputs": [],
   "source": [
    "df=pd.concat([df,new_df],ignore_index=True)"
   ]
  },
  {
   "cell_type": "code",
   "execution_count": 21,
   "metadata": {},
   "outputs": [],
   "source": [
    "uri = \"s3://desiquant/data/news/TATAPOWER.parquet.gz\"\n",
    "\n",
    "s3_params = {\n",
    "\"endpoint_url\": \"https://cbabd13f6c54798a9ec05df5b8070a6e.r2.cloudflarestorage.com\",\n",
    "\"key\": \"5c8ea9c516abfc78987bc98c70d2868a\", # FREE credentials for public access!\n",
    "\"secret\": \"0cf64f9f0b64f6008cf5efe1529c6772daa7d7d0822f5db42a7c6a1e41b3cadf\", # FREE credentials for public access!\n",
    "\"client_kwargs\": {\n",
    "    \"region_name\": \"auto\"\n",
    "    },\n",
    "}\n",
    "new_df = pd.read_parquet(uri, storage_options=s3_params)\n",
    "df=pd.concat([df,new_df],ignore_index=True)"
   ]
  },
  {
   "cell_type": "code",
   "execution_count": 23,
   "metadata": {},
   "outputs": [
    {
     "name": "stdout",
     "output_type": "stream",
     "text": [
      "14761\n"
     ]
    }
   ],
   "source": [
    "uri = \"s3://desiquant/data/news/TATAMOTORS.parquet.gz\"\n",
    "\n",
    "s3_params = {\n",
    "\"endpoint_url\": \"https://cbabd13f6c54798a9ec05df5b8070a6e.r2.cloudflarestorage.com\",\n",
    "\"key\": \"5c8ea9c516abfc78987bc98c70d2868a\", # FREE credentials for public access!\n",
    "\"secret\": \"0cf64f9f0b64f6008cf5efe1529c6772daa7d7d0822f5db42a7c6a1e41b3cadf\", # FREE credentials for public access!\n",
    "\"client_kwargs\": {\n",
    "    \"region_name\": \"auto\"\n",
    "    },\n",
    "}\n",
    "\n",
    "new_df = pd.read_parquet(uri, storage_options=s3_params)\n",
    "df=pd.concat([df,new_df],ignore_index=True)\n",
    "print(len(df))"
   ]
  },
  {
   "cell_type": "code",
   "execution_count": 24,
   "metadata": {},
   "outputs": [
    {
     "name": "stdout",
     "output_type": "stream",
     "text": [
      "15568\n"
     ]
    }
   ],
   "source": [
    "uri = \"s3://desiquant/data/news/TATACONSUM.parquet.gz\"\n",
    "\n",
    "s3_params = {\n",
    "\"endpoint_url\": \"https://cbabd13f6c54798a9ec05df5b8070a6e.r2.cloudflarestorage.com\",\n",
    "\"key\": \"5c8ea9c516abfc78987bc98c70d2868a\", # FREE credentials for public access!\n",
    "\"secret\": \"0cf64f9f0b64f6008cf5efe1529c6772daa7d7d0822f5db42a7c6a1e41b3cadf\", # FREE credentials for public access!\n",
    "\"client_kwargs\": {\n",
    "    \"region_name\": \"auto\"\n",
    "    },\n",
    "}\n",
    "\n",
    "new_df = pd.read_parquet(uri, storage_options=s3_params)\n",
    "df=pd.concat([df,new_df],ignore_index=True)\n",
    "print(len(df))"
   ]
  },
  {
   "cell_type": "code",
   "execution_count": 25,
   "metadata": {},
   "outputs": [
    {
     "data": {
      "text/html": [
       "<div>\n",
       "<style scoped>\n",
       "    .dataframe tbody tr th:only-of-type {\n",
       "        vertical-align: middle;\n",
       "    }\n",
       "\n",
       "    .dataframe tbody tr th {\n",
       "        vertical-align: top;\n",
       "    }\n",
       "\n",
       "    .dataframe thead th {\n",
       "        text-align: right;\n",
       "    }\n",
       "</style>\n",
       "<table border=\"1\" class=\"dataframe\">\n",
       "  <thead>\n",
       "    <tr style=\"text-align: right;\">\n",
       "      <th></th>\n",
       "      <th>title</th>\n",
       "      <th>feed_type</th>\n",
       "      <th>link</th>\n",
       "      <th>description</th>\n",
       "      <th>date</th>\n",
       "      <th>image</th>\n",
       "      <th>publisher</th>\n",
       "      <th>stocks</th>\n",
       "      <th>_id</th>\n",
       "    </tr>\n",
       "  </thead>\n",
       "  <tbody>\n",
       "    <tr>\n",
       "      <th>0</th>\n",
       "      <td>Reliance Industries, Tata Communications Share...</td>\n",
       "      <td>news-article</td>\n",
       "      <td>https://www.bqprime.com/markets/reliance-indus...</td>\n",
       "      <td>The U.S.-based chipmaker has tied up with the ...</td>\n",
       "      <td>2023-09-11 11:36:23.000</td>\n",
       "      <td>https://pocket-image-cache.com/direct?url=http...</td>\n",
       "      <td>{'logo': 'https://assets.tickertape.in/images/...</td>\n",
       "      <td>[{'sid': 'RELI'}, {'sid': 'TATA'}]</td>\n",
       "      <td>64feaea6855b95bc11794886</td>\n",
       "    </tr>\n",
       "    <tr>\n",
       "      <th>1</th>\n",
       "      <td>Tata Communications shares hit record high in ...</td>\n",
       "      <td>news-article</td>\n",
       "      <td>https://www.businesstoday.in/markets/trending-...</td>\n",
       "      <td>Tata Communications shares hit a record high o...</td>\n",
       "      <td>2023-08-24 17:30:00.000</td>\n",
       "      <td>https://pocket-image-cache.com/direct?url=http...</td>\n",
       "      <td>{'logo': 'https://assets.tickertape.in/images/...</td>\n",
       "      <td>[{'sid': 'BSEL'}, {'sid': 'TATA'}]</td>\n",
       "      <td>64e6e66def976d312471d302</td>\n",
       "    </tr>\n",
       "    <tr>\n",
       "      <th>2</th>\n",
       "      <td>Stocks in news: Tata Motors, Coforge, RIL, Tor...</td>\n",
       "      <td>news-article</td>\n",
       "      <td>https://www.businesstoday.in/markets/stocks/st...</td>\n",
       "      <td>Stocks to watch out for today: RIL, Torrent Ph...</td>\n",
       "      <td>2023-08-24 17:30:00.000</td>\n",
       "      <td>https://pocket-image-cache.com/direct?url=http...</td>\n",
       "      <td>{'logo': 'https://assets.tickertape.in/images/...</td>\n",
       "      <td>[{'sid': 'TATA'}, {'sid': 'TAMdv'}, {'sid': 'T...</td>\n",
       "      <td>64e6df64ef976d312471d2d9</td>\n",
       "    </tr>\n",
       "    <tr>\n",
       "      <th>3</th>\n",
       "      <td>Tata Communications plans to raise Rs 1,750cr ...</td>\n",
       "      <td>news-article</td>\n",
       "      <td>https://economictimes.indiatimes.com/industry/...</td>\n",
       "      <td>Tata Communications in a regulatory filing sai...</td>\n",
       "      <td>2023-08-24 00:24:00.000</td>\n",
       "      <td>https://pocket-image-cache.com/direct?url=http...</td>\n",
       "      <td>{'logo': 'https://assets.tickertape.in/images/...</td>\n",
       "      <td>[{'sid': 'TATA'}]</td>\n",
       "      <td>64e665a3ef976d312471d186</td>\n",
       "    </tr>\n",
       "    <tr>\n",
       "      <th>4</th>\n",
       "      <td>Tata Communications launches 5G roaming lab; s...</td>\n",
       "      <td>news-article</td>\n",
       "      <td>https://www.thehindubusinessline.com/markets/t...</td>\n",
       "      <td>Tata Communications’ 5G Roaming Lab revolution...</td>\n",
       "      <td>2023-08-23 13:26:15.000</td>\n",
       "      <td>https://pocket-image-cache.com/direct?url=http...</td>\n",
       "      <td>{'logo': 'https://assets.tickertape.in/images/...</td>\n",
       "      <td>[{'sid': 'TATA'}]</td>\n",
       "      <td>64e5c35def976d312471ccaf</td>\n",
       "    </tr>\n",
       "  </tbody>\n",
       "</table>\n",
       "</div>"
      ],
      "text/plain": [
       "                                               title     feed_type  \\\n",
       "0  Reliance Industries, Tata Communications Share...  news-article   \n",
       "1  Tata Communications shares hit record high in ...  news-article   \n",
       "2  Stocks in news: Tata Motors, Coforge, RIL, Tor...  news-article   \n",
       "3  Tata Communications plans to raise Rs 1,750cr ...  news-article   \n",
       "4  Tata Communications launches 5G roaming lab; s...  news-article   \n",
       "\n",
       "                                                link  \\\n",
       "0  https://www.bqprime.com/markets/reliance-indus...   \n",
       "1  https://www.businesstoday.in/markets/trending-...   \n",
       "2  https://www.businesstoday.in/markets/stocks/st...   \n",
       "3  https://economictimes.indiatimes.com/industry/...   \n",
       "4  https://www.thehindubusinessline.com/markets/t...   \n",
       "\n",
       "                                         description                     date  \\\n",
       "0  The U.S.-based chipmaker has tied up with the ...  2023-09-11 11:36:23.000   \n",
       "1  Tata Communications shares hit a record high o...  2023-08-24 17:30:00.000   \n",
       "2  Stocks to watch out for today: RIL, Torrent Ph...  2023-08-24 17:30:00.000   \n",
       "3  Tata Communications in a regulatory filing sai...  2023-08-24 00:24:00.000   \n",
       "4  Tata Communications’ 5G Roaming Lab revolution...  2023-08-23 13:26:15.000   \n",
       "\n",
       "                                               image  \\\n",
       "0  https://pocket-image-cache.com/direct?url=http...   \n",
       "1  https://pocket-image-cache.com/direct?url=http...   \n",
       "2  https://pocket-image-cache.com/direct?url=http...   \n",
       "3  https://pocket-image-cache.com/direct?url=http...   \n",
       "4  https://pocket-image-cache.com/direct?url=http...   \n",
       "\n",
       "                                           publisher  \\\n",
       "0  {'logo': 'https://assets.tickertape.in/images/...   \n",
       "1  {'logo': 'https://assets.tickertape.in/images/...   \n",
       "2  {'logo': 'https://assets.tickertape.in/images/...   \n",
       "3  {'logo': 'https://assets.tickertape.in/images/...   \n",
       "4  {'logo': 'https://assets.tickertape.in/images/...   \n",
       "\n",
       "                                              stocks                       _id  \n",
       "0                 [{'sid': 'RELI'}, {'sid': 'TATA'}]  64feaea6855b95bc11794886  \n",
       "1                 [{'sid': 'BSEL'}, {'sid': 'TATA'}]  64e6e66def976d312471d302  \n",
       "2  [{'sid': 'TATA'}, {'sid': 'TAMdv'}, {'sid': 'T...  64e6df64ef976d312471d2d9  \n",
       "3                                  [{'sid': 'TATA'}]  64e665a3ef976d312471d186  \n",
       "4                                  [{'sid': 'TATA'}]  64e5c35def976d312471ccaf  "
      ]
     },
     "execution_count": 25,
     "metadata": {},
     "output_type": "execute_result"
    }
   ],
   "source": [
    "df.head()"
   ]
  },
  {
   "cell_type": "code",
   "execution_count": 26,
   "metadata": {},
   "outputs": [],
   "source": [
    "df.to_csv(\"TATA.csv\", index=False)"
   ]
  },
  {
   "cell_type": "code",
   "execution_count": null,
   "metadata": {},
   "outputs": [],
   "source": []
  }
 ],
 "metadata": {
  "kernelspec": {
   "display_name": "nlp",
   "language": "python",
   "name": "python3"
  },
  "language_info": {
   "codemirror_mode": {
    "name": "ipython",
    "version": 3
   },
   "file_extension": ".py",
   "mimetype": "text/x-python",
   "name": "python",
   "nbconvert_exporter": "python",
   "pygments_lexer": "ipython3",
   "version": "3.12.3"
  }
 },
 "nbformat": 4,
 "nbformat_minor": 2
}
